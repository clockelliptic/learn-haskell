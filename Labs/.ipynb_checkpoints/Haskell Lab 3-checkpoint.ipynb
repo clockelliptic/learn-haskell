{
 "cells": [
  {
   "cell_type": "markdown",
   "metadata": {},
   "source": [
    "# Lab 3\n",
    "\n",
    "Remember, you don't actually submit labs and you don't have to do every lab problem. Only assignments are submitted. Save your lab work for demonstrations.\n",
    "\n",
    " - Work through the LYAH Chapter 5 on Recursion\n",
    " - Review or finish working through LYAH Chapter 2 on lists and tuples\n",
    " - Work through the PINH slides for Chapter 5 and do all the exercises at the end.\n",
    " - Work through the PINH slides for Chapter 6 and do all the exercises at the end.\n",
    " - Do a first reading through the Elementary Haskell section of the Haskell Wikibook up to More on Functions. Concentrate on the Recursion, Lists, Pattern Matching, and Control Structures. Skip over the folds (Lists III section). We'll focus on folds and maps next week.  Skip over the reading on programming with actions (at the end of the Control Structure section). We'll focus on programming with actions as its own paradigm later.\n",
    " - Write the compress function of problem 8 in H99P. Do it before you look at the solution they give, of course.\n",
    " - Write the pack function of problem 9 in H99P. Do it before you look at the solution they give, of course."
   ]
  },
  {
   "cell_type": "code",
   "execution_count": null,
   "metadata": {},
   "outputs": [],
   "source": []
  }
 ],
 "metadata": {
  "kernelspec": {
   "display_name": "Haskell",
   "language": "haskell",
   "name": "haskell"
  },
  "language_info": {
   "codemirror_mode": "ihaskell",
   "file_extension": ".hs",
   "name": "haskell",
   "pygments_lexer": "Haskell",
   "version": "8.6.3"
  },
  "toc": {
   "base_numbering": 1,
   "nav_menu": {},
   "number_sections": true,
   "sideBar": true,
   "skip_h1_title": false,
   "title_cell": "Table of Contents",
   "title_sidebar": "Contents",
   "toc_cell": false,
   "toc_position": {},
   "toc_section_display": true,
   "toc_window_display": false
  }
 },
 "nbformat": 4,
 "nbformat_minor": 2
}
