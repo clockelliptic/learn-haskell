{
 "cells": [
  {
   "cell_type": "markdown",
   "metadata": {},
   "source": [
    "# Haskell Lab 1\n",
    "\n",
    "Before you start this lab, explore the main Haskell class page and become familiar with the syllabus, the textbooks, the tutorials, the resources, and the links to the assignments and the labs.\n",
    "\n",
    "Do not turn in the lab work, but keep your lab work organized so you can show it to the faculty.\n",
    "\n",
    "You do not need to go through these steps in order. The HWIB, LYAH, and PINH resources cover pretty much the same material in different ways. I tried to order the readings so it would flow most smoothly, but you may find you want to skip back and forth between the three sources. Nevertheless, you should cover the listed readings in all three of these references.\n",
    "\n",
    "1. Read through Ch01 of LYAH (Learn You a Haskell for Great Good!) <br /><br />\n",
    "\n",
    "2. Read through and do the first 3 steps of the \"Haskell in 5 steps\" link in the \"References\" section of the main Haskell class page. If you are unable or disinclined to install the Haskell Platform on your own computer at this time, then log into ada and use ghci on ada for steps 2 and 3. <br /><br />\n",
    "\n",
    "3. Work through the first five sections of the Haskell Basics part of the Haskell Wiki Book (HWIB through Lists and Tuples). \"Work through\" means study and try the examples along the way. You don't need to do the exercises (yet). Be sure you understand how to put your code in a Haskell script file (extension .lhs or .hs) and load it for testing. <br /><br />\n",
    "\n",
    "    Make sure you understand the difference between the type language and the function definition language in Haskell. Types always come after a double colon and values are always before the double colon (eg, True :: Bool) Haskell does not actually allow you to compute over types (some languages do). Types are static and all type checking is static (ie during compilation). Also be sure you understand the difference between loading a Haskell script to run and using the GHCi interpreter interactively. When you are working interactively in the interpreter you are actually working inside a Haskell monad! That's why you have to use the \"let\" to define named values, unlike in your scripts. <br /><br />\n",
    "\n",
    "4. Read through CH02 of LYAH (covering lists and tuples), trying some of the examples as you go. Do the examples you try using a script file for your code, rather than typing directly into the ghci iterpreter. <br /><br />\n",
    "\n",
    "5. Read through the Slides in the first 2 chapters of Hutton's PINH and do all the questions posed on the Slides. You can also watch the videos of the first two chapters if you want. <br /><br />\n",
    "\n",
    "6. Finished everything? Go on to start your first Haskell assignment. See the main Haskell page."
   ]
  },
  {
   "cell_type": "markdown",
   "metadata": {},
   "source": [
    "## Chapter 1 of *Learn You A Haskell*\n",
    "\n",
    "http://learnyouahaskell.com/introduction#what-you-need"
   ]
  },
  {
   "cell_type": "markdown",
   "metadata": {},
   "source": [
    "## Haskell in 5 Steps\n",
    "\n",
    "https://wiki.haskell.org/Haskell_in_5_steps\n",
    "\n",
    "### Install Haskell"
   ]
  },
  {
   "cell_type": "markdown",
   "metadata": {},
   "source": [
    "### Start Haskell"
   ]
  },
  {
   "cell_type": "markdown",
   "metadata": {},
   "source": [
    "### Write the Hello World program"
   ]
  },
  {
   "cell_type": "markdown",
   "metadata": {},
   "source": [
    "### Haskell The Calculator: Factorial Script\n",
    "*There are some additional steps in the instructional for loading definitions.* Since we're working in a notebook we'll skil these steps, but they're as simple as saving our new definition in a file `fac.hs` running:\n",
    "\n",
    "```\n",
    ":load fac.hs\n",
    "\n",
    "```"
   ]
  },
  {
   "cell_type": "code",
   "execution_count": 3,
   "metadata": {},
   "outputs": [],
   "source": [
    "let fac n = product [1..n]"
   ]
  },
  {
   "cell_type": "code",
   "execution_count": 4,
   "metadata": {},
   "outputs": [
    {
     "data": {
      "text/plain": [
       "1"
      ]
     },
     "metadata": {},
     "output_type": "display_data"
    },
    {
     "data": {
      "text/plain": [
       "1"
      ]
     },
     "metadata": {},
     "output_type": "display_data"
    },
    {
     "data": {
      "text/plain": [
       "2"
      ]
     },
     "metadata": {},
     "output_type": "display_data"
    },
    {
     "data": {
      "text/plain": [
       "6"
      ]
     },
     "metadata": {},
     "output_type": "display_data"
    },
    {
     "data": {
      "text/plain": [
       "24"
      ]
     },
     "metadata": {},
     "output_type": "display_data"
    },
    {
     "data": {
      "text/plain": [
       "That worked! :)"
      ]
     },
     "metadata": {},
     "output_type": "display_data"
    }
   ],
   "source": [
    "fac 0\n",
    "fac 1\n",
    "fac 2\n",
    "fac 3\n",
    "fac 4\n",
    "putStrLn \"That worked! :)\""
   ]
  },
  {
   "cell_type": "markdown",
   "metadata": {},
   "source": [
    "#### Write your first parallel Haskell program\n",
    "Haskell has good support for parallel and multicore programming. We can write a parallel program by adding `par` to expressions, like so:"
   ]
  },
  {
   "cell_type": "code",
   "execution_count": 5,
   "metadata": {},
   "outputs": [
    {
     "data": {
      "text/html": [
       "<style>/* Styles used for the Hoogle display in the pager */\n",
       ".hoogle-doc {\n",
       "display: block;\n",
       "padding-bottom: 1.3em;\n",
       "padding-left: 0.4em;\n",
       "}\n",
       ".hoogle-code {\n",
       "display: block;\n",
       "font-family: monospace;\n",
       "white-space: pre;\n",
       "}\n",
       ".hoogle-text {\n",
       "display: block;\n",
       "}\n",
       ".hoogle-name {\n",
       "color: green;\n",
       "font-weight: bold;\n",
       "}\n",
       ".hoogle-head {\n",
       "font-weight: bold;\n",
       "}\n",
       ".hoogle-sub {\n",
       "display: block;\n",
       "margin-left: 0.4em;\n",
       "}\n",
       ".hoogle-package {\n",
       "font-weight: bold;\n",
       "font-style: italic;\n",
       "}\n",
       ".hoogle-module {\n",
       "font-weight: bold;\n",
       "}\n",
       ".hoogle-class {\n",
       "font-weight: bold;\n",
       "}\n",
       ".get-type {\n",
       "color: green;\n",
       "font-weight: bold;\n",
       "font-family: monospace;\n",
       "display: block;\n",
       "white-space: pre-wrap;\n",
       "}\n",
       ".show-type {\n",
       "color: green;\n",
       "font-weight: bold;\n",
       "font-family: monospace;\n",
       "margin-left: 1em;\n",
       "}\n",
       ".mono {\n",
       "font-family: monospace;\n",
       "display: block;\n",
       "}\n",
       ".err-msg {\n",
       "color: red;\n",
       "font-style: italic;\n",
       "font-family: monospace;\n",
       "white-space: pre;\n",
       "display: block;\n",
       "}\n",
       "#unshowable {\n",
       "color: red;\n",
       "font-weight: bold;\n",
       "}\n",
       ".err-msg.in.collapse {\n",
       "padding-top: 0.7em;\n",
       "}\n",
       ".highlight-code {\n",
       "white-space: pre;\n",
       "font-family: monospace;\n",
       "}\n",
       ".suggestion-warning { \n",
       "font-weight: bold;\n",
       "color: rgb(200, 130, 0);\n",
       "}\n",
       ".suggestion-error { \n",
       "font-weight: bold;\n",
       "color: red;\n",
       "}\n",
       ".suggestion-name {\n",
       "font-weight: bold;\n",
       "}\n",
       "</style><span class='err-msg'>&lt;interactive&gt;:1:1: error:<br/>    Could not find module ‘Control.Parallel’</span>"
      ],
      "text/plain": [
       "<interactive>:1:1: error:\n",
       "    Could not find module ‘Control.Parallel’\n",
       "    Use -v to see a list of the files searched for."
      ]
     },
     "metadata": {},
     "output_type": "display_data"
    }
   ],
   "source": [
    "import Control.Parallel\n",
    "\n",
    "main = a `par` b `par` c `pseq` print (a + b + c)\n",
    "    where\n",
    "        a = ack 3 10\n",
    "        b = fac 42\n",
    "        c = fib 34\n",
    "\n",
    "fac n = product [1..n]"
   ]
  },
  {
   "cell_type": "code",
   "execution_count": null,
   "metadata": {},
   "outputs": [],
   "source": []
  }
 ],
 "metadata": {
  "kernelspec": {
   "display_name": "Haskell",
   "language": "haskell",
   "name": "haskell"
  },
  "language_info": {
   "codemirror_mode": "ihaskell",
   "file_extension": ".hs",
   "name": "haskell",
   "pygments_lexer": "Haskell",
   "version": "8.6.3"
  },
  "varInspector": {
   "cols": {
    "lenName": 16,
    "lenType": 16,
    "lenVar": 40
   },
   "kernels_config": {
    "python": {
     "delete_cmd_postfix": "",
     "delete_cmd_prefix": "del ",
     "library": "var_list.py",
     "varRefreshCmd": "print(var_dic_list())"
    },
    "r": {
     "delete_cmd_postfix": ") ",
     "delete_cmd_prefix": "rm(",
     "library": "var_list.r",
     "varRefreshCmd": "cat(var_dic_list()) "
    }
   },
   "types_to_exclude": [
    "module",
    "function",
    "builtin_function_or_method",
    "instance",
    "_Feature"
   ],
   "window_display": false
  }
 },
 "nbformat": 4,
 "nbformat_minor": 2
}
