{
 "cells": [
  {
   "cell_type": "markdown",
   "metadata": {},
   "source": [
    "1. Check the Operator Precedence in Haskell for (`.`) and (`$`). Which of the following work in ghci and which don't? Explain why.\n",
    "```\n",
    "head . tail [1,2]\n",
    "(head . tail) [1,2]\n",
    "head . tail $ [1,2]\n",
    "head.tail $ [1,2]\n",
    "```"
   ]
  },
  {
   "cell_type": "markdown",
   "metadata": {},
   "source": [
    "2. Define a function composeList that composes a list of functions into a single function."
   ]
  },
  {
   "cell_type": "markdown",
   "metadata": {},
   "source": [
    "3. Rewrite composeList as a fold."
   ]
  },
  {
   "cell_type": "markdown",
   "metadata": {},
   "source": [
    "4. Recode your Hw2 stringToNum program as sequence of transformations using the explicit application operator ($)."
   ]
  },
  {
   "cell_type": "markdown",
   "metadata": {},
   "source": [
    "5. Recode your Hw2 stringToNum program as a composition of functions using the \"dot\" composition operator (.)."
   ]
  },
  {
   "cell_type": "markdown",
   "metadata": {},
   "source": [
    "6. Code a function numToString, also using the composition form, that does the inverse of your stringToNum program."
   ]
  },
  {
   "cell_type": "markdown",
   "metadata": {},
   "source": [
    "7. Write a function iter f x n that applies the function f n times to the initial value x. Assume that if n is zero or less then the value x is returned (CRFP)."
   ]
  },
  {
   "cell_type": "markdown",
   "metadata": {},
   "source": [
    "8. Code the function bin2int that takes a binary string of 0s and 1s and returns the value as an integer."
   ]
  },
  {
   "cell_type": "markdown",
   "metadata": {},
   "source": [
    "9. Code the inverse function int2bin that takes an integer and produces a binary string of 0s and 1s. Verify that your bin2int and int2bin functions are indeed inverses of each other."
   ]
  },
  {
   "cell_type": "markdown",
   "metadata": {},
   "source": [
    "10. Using the functions curry and uncurry as a model, code functions curry3 and uncurry3 that work on triples rather than pairs."
   ]
  },
  {
   "cell_type": "markdown",
   "metadata": {},
   "source": [
    "11. Rewrite the iter function of from above as an unfold."
   ]
  },
  {
   "cell_type": "markdown",
   "metadata": {},
   "source": [
    "12. Recode bin2int function above as a fold. You might find it easier to assume the least significant digits are on the left."
   ]
  },
  {
   "cell_type": "markdown",
   "metadata": {},
   "source": [
    "13. Recode the and int2bin function above as an unfold. It works easier to assume the least significant digits are on the left."
   ]
  },
  {
   "cell_type": "markdown",
   "metadata": {},
   "source": [
    "14. Define functions\n",
    "```\n",
    "curryList :: ([a] -> d) -> (a -> [a] -> d)\n",
    "uncurryList :: (a -> [a] -> d) -> ([a] -> d)\n",
    "```     \n",
    "that work on a list of arguments rather than a tuple of arguments (CRFP). Note that from the types the curried form the function must have at least one argument."
   ]
  },
  {
   "cell_type": "code",
   "execution_count": null,
   "metadata": {},
   "outputs": [],
   "source": []
  }
 ],
 "metadata": {
  "kernelspec": {
   "display_name": "Haskell",
   "language": "haskell",
   "name": "haskell"
  },
  "language_info": {
   "codemirror_mode": "ihaskell",
   "file_extension": ".hs",
   "name": "haskell",
   "pygments_lexer": "Haskell",
   "version": "8.6.3"
  },
  "toc": {
   "base_numbering": 1,
   "nav_menu": {},
   "number_sections": true,
   "sideBar": true,
   "skip_h1_title": false,
   "title_cell": "Table of Contents",
   "title_sidebar": "Contents",
   "toc_cell": false,
   "toc_position": {},
   "toc_section_display": true,
   "toc_window_display": false
  }
 },
 "nbformat": 4,
 "nbformat_minor": 2
}
