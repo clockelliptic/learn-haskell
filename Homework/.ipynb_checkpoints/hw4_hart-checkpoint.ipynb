{
 "cells": [
  {
   "cell_type": "markdown",
   "metadata": {},
   "source": [
    "1. Check the Operator Precedence in Haskell for (`.`) and (`$`). Which of the following work in ghci and which don't? Explain why.\n",
    "```\n",
    "head . tail [1,2]\n",
    "(head . tail) [1,2]\n",
    "head . tail $ [1,2]\n",
    "head.tail $ [1,2]\n",
    "```"
   ]
  },
  {
   "cell_type": "code",
   "execution_count": 35,
   "metadata": {},
   "outputs": [
    {
     "data": {
      "text/html": [
       "<style>/* Styles used for the Hoogle display in the pager */\n",
       ".hoogle-doc {\n",
       "display: block;\n",
       "padding-bottom: 1.3em;\n",
       "padding-left: 0.4em;\n",
       "}\n",
       ".hoogle-code {\n",
       "display: block;\n",
       "font-family: monospace;\n",
       "white-space: pre;\n",
       "}\n",
       ".hoogle-text {\n",
       "display: block;\n",
       "}\n",
       ".hoogle-name {\n",
       "color: green;\n",
       "font-weight: bold;\n",
       "}\n",
       ".hoogle-head {\n",
       "font-weight: bold;\n",
       "}\n",
       ".hoogle-sub {\n",
       "display: block;\n",
       "margin-left: 0.4em;\n",
       "}\n",
       ".hoogle-package {\n",
       "font-weight: bold;\n",
       "font-style: italic;\n",
       "}\n",
       ".hoogle-module {\n",
       "font-weight: bold;\n",
       "}\n",
       ".hoogle-class {\n",
       "font-weight: bold;\n",
       "}\n",
       ".get-type {\n",
       "color: green;\n",
       "font-weight: bold;\n",
       "font-family: monospace;\n",
       "display: block;\n",
       "white-space: pre-wrap;\n",
       "}\n",
       ".show-type {\n",
       "color: green;\n",
       "font-weight: bold;\n",
       "font-family: monospace;\n",
       "margin-left: 1em;\n",
       "}\n",
       ".mono {\n",
       "font-family: monospace;\n",
       "display: block;\n",
       "}\n",
       ".err-msg {\n",
       "color: red;\n",
       "font-style: italic;\n",
       "font-family: monospace;\n",
       "white-space: pre;\n",
       "display: block;\n",
       "}\n",
       "#unshowable {\n",
       "color: red;\n",
       "font-weight: bold;\n",
       "}\n",
       ".err-msg.in.collapse {\n",
       "padding-top: 0.7em;\n",
       "}\n",
       ".highlight-code {\n",
       "white-space: pre;\n",
       "font-family: monospace;\n",
       "}\n",
       ".suggestion-warning { \n",
       "font-weight: bold;\n",
       "color: rgb(200, 130, 0);\n",
       "}\n",
       ".suggestion-error { \n",
       "font-weight: bold;\n",
       "color: red;\n",
       "}\n",
       ".suggestion-name {\n",
       "font-weight: bold;\n",
       "}\n",
       "</style><span class='err-msg'>&lt;interactive&gt;:1:8: error:<br/>    * Couldn't match expected type `a -&gt; [c]' with actual type `[Integer]'<br/>    * Possible cause: `tail' is applied to too many arguments<br/>      In the second argument of `(.)', namely `tail [1, 2]'<br/>      In the expression: head . tail [1, 2]<br/>      In an equation for `it': it = head . tail [1, 2]<br/>    * Relevant bindings include it :: a -&gt; c (bound at &lt;interactive&gt;:1:1)</span>"
      ],
      "text/plain": [
       "<interactive>:1:8: error:\n",
       "    * Couldn't match expected type `a -> [c]' with actual type `[Integer]'\n",
       "    * Possible cause: `tail' is applied to too many arguments\n",
       "      In the second argument of `(.)', namely `tail [1, 2]'\n",
       "      In the expression: head . tail [1, 2]\n",
       "      In an equation for `it': it = head . tail [1, 2]\n",
       "    * Relevant bindings include it :: a -> c (bound at <interactive>:1:1)"
      ]
     },
     "metadata": {},
     "output_type": "display_data"
    }
   ],
   "source": [
    "-- This doesn't work. Function application has\n",
    "-- a higher precedence than composition so this\n",
    "-- is interpreted as:   head . (tail [1,2]) = head . [2]\n",
    "head . tail [1,2]\n",
    "\n",
    "-- This works. Parentheses have a higher syntactic\n",
    "-- precedence than function application... obviously!\n",
    "-- So this is kind of like a sick and twisted  f(g(x))\n",
    "(head . tail) [1,2]\n",
    "\n",
    "-- If the previous example was sick and twisted this is\n",
    "-- like the... carnival clown ted bundy of syntactic\n",
    "-- convecntions. `$` lowers the priority of romance between\n",
    "-- `tail` and it's partner `[1,2]`, so this works.\n",
    "head . tail $ [1,2]\n",
    "\n",
    "-- Same as above, but awkwardly close between head and tail.\n",
    "head.tail $ [1,2]"
   ]
  },
  {
   "cell_type": "markdown",
   "metadata": {},
   "source": [
    "2. Define a function composeList that composes a list of functions into a single function."
   ]
  },
  {
   "cell_type": "code",
   "execution_count": 58,
   "metadata": {},
   "outputs": [
    {
     "data": {
      "text/plain": [
       "[False,True,True]"
      ]
     },
     "metadata": {},
     "output_type": "display_data"
    }
   ],
   "source": []
  },
  {
   "cell_type": "code",
   "execution_count": null,
   "metadata": {},
   "outputs": [],
   "source": [
    "composeList fs = cLhelper fs (fs !! 0)\n",
    "        let cLhelper fs f\n",
    "                | fcLhelper (tail fs) (f.(fs !! 0))"
   ]
  },
  {
   "cell_type": "code",
   "execution_count": null,
   "metadata": {},
   "outputs": [],
   "source": [
    "composeList xs = []"
   ]
  },
  {
   "cell_type": "markdown",
   "metadata": {},
   "source": [
    "3. Rewrite composeList as a fold."
   ]
  },
  {
   "cell_type": "markdown",
   "metadata": {},
   "source": [
    "4. Recode your Hw2 stringToNum program as sequence of transformations using the explicit application operator ($)."
   ]
  },
  {
   "cell_type": "markdown",
   "metadata": {},
   "source": [
    "5. Recode your Hw2 stringToNum program as a composition of functions using the \"dot\" composition operator (.)."
   ]
  },
  {
   "cell_type": "markdown",
   "metadata": {},
   "source": [
    "6. Code a function numToString, also using the composition form, that does the inverse of your stringToNum program."
   ]
  },
  {
   "cell_type": "markdown",
   "metadata": {},
   "source": [
    "7. Write a function iter f x n that applies the function f n times to the initial value x. Assume that if n is zero or less then the value x is returned (CRFP)."
   ]
  },
  {
   "cell_type": "markdown",
   "metadata": {},
   "source": [
    "8. Code the function bin2int that takes a binary string of 0s and 1s and returns the value as an integer."
   ]
  },
  {
   "cell_type": "markdown",
   "metadata": {},
   "source": [
    "9. Code the inverse function int2bin that takes an integer and produces a binary string of 0s and 1s. Verify that your bin2int and int2bin functions are indeed inverses of each other."
   ]
  },
  {
   "cell_type": "markdown",
   "metadata": {},
   "source": [
    "10. Using the functions curry and uncurry as a model, code functions curry3 and uncurry3 that work on triples rather than pairs."
   ]
  },
  {
   "cell_type": "markdown",
   "metadata": {},
   "source": [
    "11. Rewrite the iter function of from above as an unfold."
   ]
  },
  {
   "cell_type": "markdown",
   "metadata": {},
   "source": [
    "12. Recode bin2int function above as a fold. You might find it easier to assume the least significant digits are on the left."
   ]
  },
  {
   "cell_type": "markdown",
   "metadata": {},
   "source": [
    "13. Recode the and int2bin function above as an unfold. It works easier to assume the least significant digits are on the left."
   ]
  },
  {
   "cell_type": "markdown",
   "metadata": {},
   "source": [
    "14. Define functions\n",
    "```\n",
    "curryList :: ([a] -> d) -> (a -> [a] -> d)\n",
    "uncurryList :: (a -> [a] -> d) -> ([a] -> d)\n",
    "```     \n",
    "that work on a list of arguments rather than a tuple of arguments (CRFP). Note that from the types the curried form the function must have at least one argument."
   ]
  },
  {
   "cell_type": "code",
   "execution_count": null,
   "metadata": {},
   "outputs": [],
   "source": []
  }
 ],
 "metadata": {
  "kernelspec": {
   "display_name": "Haskell",
   "language": "haskell",
   "name": "haskell"
  },
  "language_info": {
   "codemirror_mode": "ihaskell",
   "file_extension": ".hs",
   "name": "haskell",
   "pygments_lexer": "Haskell",
   "version": "8.6.3"
  },
  "toc": {
   "base_numbering": 1,
   "nav_menu": {},
   "number_sections": true,
   "sideBar": true,
   "skip_h1_title": false,
   "title_cell": "Table of Contents",
   "title_sidebar": "Contents",
   "toc_cell": false,
   "toc_position": {},
   "toc_section_display": true,
   "toc_window_display": false
  }
 },
 "nbformat": 4,
 "nbformat_minor": 2
}
