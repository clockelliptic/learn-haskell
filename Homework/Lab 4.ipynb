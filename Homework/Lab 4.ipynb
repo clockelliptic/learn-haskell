{
 "cells": [
  {
   "cell_type": "markdown",
   "metadata": {},
   "source": [
    "# Haskell Lab 4\n",
    "1. Work through the LYAH Chapter 6 on Higher Order Functions.\n",
    "\n",
    "\n",
    "2. Work through the PINH slides for Chapter 7 and do all the exercises at the end.\n",
    "\n",
    "\n",
    "3. Work through the Elementary Haskell section of the Haskell Wikibook on folds. Try the examples! Do the exercises!\n",
    "\n",
    "\n",
    "4. Without looking at the Prelude write your own versions of the functions `any`, `all`, `takeWhile`, `dropWhile`. Write them in a way that will make it possible to see them as folds (ie, base case and accumulation case).\n",
    "\n",
    "\n",
    "5. Without looking at the Prelude, write the functions `curry` and `uncurry`. The *curry* function converts a function on pairs into a curried function. The *uncurry* function does the reverse.\n",
    "\n",
    "\n",
    "6. Do problem 15 from H99P. Do it before you look at the solutions they give, of course. Try to code one of the alternative solutions on your own.\n",
    "\n",
    "\n",
    "7. Do problem 16 from H99P. Do it before you look at the solutions they give, of course. Try to code one of the alternative solutions on your own.\n",
    "\n",
    "\n",
    "8. Do problem 17 from H99P. Do it before you look at the solutions they give, of course. Try to code one of the alternative solutions on your own.\n",
    "\n",
    "\n",
    "9. Do problem 18 from H99P. Do it before you look at the solutions they give, of course. Try to code one of the alternative solutions on your own.\n",
    "\n",
    "\n",
    "10. Without looking at the Prelude, write the simple looping function `until p f a` that keeps applying the *function* `f` starting at *value* `a` until the *condition* `p` holds for the function result. Write the similar function `while p f a`."
   ]
  },
  {
   "cell_type": "code",
   "execution_count": null,
   "metadata": {},
   "outputs": [],
   "source": []
  }
 ],
 "metadata": {
  "kernelspec": {
   "display_name": "Haskell",
   "language": "haskell",
   "name": "haskell"
  },
  "language_info": {
   "codemirror_mode": "ihaskell",
   "file_extension": ".hs",
   "name": "haskell",
   "pygments_lexer": "Haskell",
   "version": "8.6.3"
  },
  "toc": {
   "base_numbering": 1,
   "nav_menu": {},
   "number_sections": true,
   "sideBar": true,
   "skip_h1_title": false,
   "title_cell": "Table of Contents",
   "title_sidebar": "Contents",
   "toc_cell": false,
   "toc_position": {},
   "toc_section_display": true,
   "toc_window_display": false
  }
 },
 "nbformat": 4,
 "nbformat_minor": 2
}
