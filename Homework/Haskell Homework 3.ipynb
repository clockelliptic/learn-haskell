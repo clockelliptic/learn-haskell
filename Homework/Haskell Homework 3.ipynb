{
 "cells": [
  {
   "cell_type": "markdown",
   "metadata": {},
   "source": [
    "# Homework 3\n",
    "1. Write a function   `flatten`   that takes a list of lists and flattens it to a single list. For example:\n",
    "\n",
    "    ```\n",
    "    In:     flatten [[1,2,3], [4,5,6,7], [8,9,10,11,12]]\n",
    "\n",
    "    Out:    [1,2,3,4,5,6,7,8,9,10,11,12]\n",
    "    ```\n",
    "\n",
    "\n",
    "2. Write a function   `remdups`   that removes all duplicates from a list.\n",
    "\n",
    "\n",
    "3. Write a function   `scanSum`   that adds the items in a list and returns a list of the running totals (from HWIB, Lists II). So: \n",
    "\n",
    "    ```\n",
    "    In:     scanSum [2,3,4,5]\n",
    "\n",
    "    Out:    [2,5,9,14]. \n",
    "    ```\n",
    "\n",
    "\n",
    "4. Write a function   `group`   that takes a list and returns a list of lists such that the concatenation of the result is equal to the original argument. Each sublist in the result contains only equal elements. For example:\n",
    "\n",
    "    ```\n",
    "    In:     group \"Mississippi\"\n",
    "\n",
    "    Out:    [ \"M\", \"i\", \"ss\", \"i\", \"ss\", \"i\", \"pp\", \"i\"].\n",
    "    ```\n",
    "\n",
    "\n",
    "5. Write a function   `listDiff`   with two lists as parameters that deletes every occurrence of every element of the second list from the first list. This is analogous to a set difference.\n",
    "\n",
    "\n",
    "6. Implement a __Run Length Encoding (RLE) encoder and decoder__. The idea of RLE is simple: given some input: `\"aaaabbaaa\"` compress it by taking the length of each run of characters: `(4,'a')`, `(2, 'b')`, `(3, 'a')`. The   `flatten`   and   `group`   functions from above might be helpful. What is the type of your encode and decode functions? (from HWIB, Lists II)"
   ]
  },
  {
   "cell_type": "markdown",
   "metadata": {},
   "source": [
    "## Problem 1"
   ]
  },
  {
   "cell_type": "code",
   "execution_count": 10,
   "metadata": {},
   "outputs": [],
   "source": [
    "flatten xss = [x | xs <- xss, x <- xs]"
   ]
  },
  {
   "cell_type": "code",
   "execution_count": 11,
   "metadata": {},
   "outputs": [
    {
     "data": {
      "text/plain": [
       "[1,2,3,4,5,6,7,8,9,10,11,12]"
      ]
     },
     "metadata": {},
     "output_type": "display_data"
    }
   ],
   "source": [
    "flatten[[1,2,3], [4,5,6,7], [8,9,10,11,12]]"
   ]
  },
  {
   "cell_type": "markdown",
   "metadata": {},
   "source": [
    "## Problem 2\n",
    "\n",
    "The painful way to do this is to sort the list, separate it into a list of sub-lists which contain equal elements, then return a list containing the head of each sublist. __Major__ pain in the ass. Instead I spent an ungodly number of hours figuring out how to sort-of replicate Python's list indexing.\n",
    "\n",
    "General strategy:\n",
    "\n",
    "1. Index each element using a tuple.\n",
    "2. While building the list, check and make sure the elements isnt already in the list."
   ]
  },
  {
   "cell_type": "code",
   "execution_count": 48,
   "metadata": {},
   "outputs": [],
   "source": [
    "remdups xs = [element | (index, element) <- zip [0..(length xs)] xs,\n",
    "              element `notElem` take index xs]"
   ]
  },
  {
   "cell_type": "code",
   "execution_count": 49,
   "metadata": {},
   "outputs": [
    {
     "data": {
      "text/plain": [
       "\"1a\""
      ]
     },
     "metadata": {},
     "output_type": "display_data"
    }
   ],
   "source": [
    "remdups ['1','a','a']"
   ]
  },
  {
   "cell_type": "code",
   "execution_count": 50,
   "metadata": {},
   "outputs": [
    {
     "data": {
      "text/plain": [
       "[1,3,4]"
      ]
     },
     "metadata": {},
     "output_type": "display_data"
    }
   ],
   "source": [
    "remdups [1,1,1,3,4]"
   ]
  },
  {
   "cell_type": "markdown",
   "metadata": {},
   "source": [
    "## Problem 3:"
   ]
  },
  {
   "cell_type": "code",
   "execution_count": 269,
   "metadata": {},
   "outputs": [
    {
     "data": {
      "text/html": [
       "<style>/* Styles used for the Hoogle display in the pager */\n",
       ".hoogle-doc {\n",
       "display: block;\n",
       "padding-bottom: 1.3em;\n",
       "padding-left: 0.4em;\n",
       "}\n",
       ".hoogle-code {\n",
       "display: block;\n",
       "font-family: monospace;\n",
       "white-space: pre;\n",
       "}\n",
       ".hoogle-text {\n",
       "display: block;\n",
       "}\n",
       ".hoogle-name {\n",
       "color: green;\n",
       "font-weight: bold;\n",
       "}\n",
       ".hoogle-head {\n",
       "font-weight: bold;\n",
       "}\n",
       ".hoogle-sub {\n",
       "display: block;\n",
       "margin-left: 0.4em;\n",
       "}\n",
       ".hoogle-package {\n",
       "font-weight: bold;\n",
       "font-style: italic;\n",
       "}\n",
       ".hoogle-module {\n",
       "font-weight: bold;\n",
       "}\n",
       ".hoogle-class {\n",
       "font-weight: bold;\n",
       "}\n",
       ".get-type {\n",
       "color: green;\n",
       "font-weight: bold;\n",
       "font-family: monospace;\n",
       "display: block;\n",
       "white-space: pre-wrap;\n",
       "}\n",
       ".show-type {\n",
       "color: green;\n",
       "font-weight: bold;\n",
       "font-family: monospace;\n",
       "margin-left: 1em;\n",
       "}\n",
       ".mono {\n",
       "font-family: monospace;\n",
       "display: block;\n",
       "}\n",
       ".err-msg {\n",
       "color: red;\n",
       "font-style: italic;\n",
       "font-family: monospace;\n",
       "white-space: pre;\n",
       "display: block;\n",
       "}\n",
       "#unshowable {\n",
       "color: red;\n",
       "font-weight: bold;\n",
       "}\n",
       ".err-msg.in.collapse {\n",
       "padding-top: 0.7em;\n",
       "}\n",
       ".highlight-code {\n",
       "white-space: pre;\n",
       "font-family: monospace;\n",
       "}\n",
       ".suggestion-warning { \n",
       "font-weight: bold;\n",
       "color: rgb(200, 130, 0);\n",
       "}\n",
       ".suggestion-error { \n",
       "font-weight: bold;\n",
       "color: red;\n",
       "}\n",
       ".suggestion-name {\n",
       "font-weight: bold;\n",
       "}\n",
       "</style><span class='get-type'>zip :: forall a b. [a] -> [b] -> [(a, b)]</span>"
      ],
      "text/plain": [
       "zip :: forall a b. [a] -> [b] -> [(a, b)]"
      ]
     },
     "metadata": {},
     "output_type": "display_data"
    }
   ],
   "source": [
    ":t zip"
   ]
  },
  {
   "cell_type": "code",
   "execution_count": 275,
   "metadata": {},
   "outputs": [],
   "source": [
    "scanSum xs = [element | (i, element) <- zip [1.. length xs] xs,\n",
    "              let element = sum (take i xs)] "
   ]
  },
  {
   "cell_type": "code",
   "execution_count": 276,
   "metadata": {},
   "outputs": [
    {
     "data": {
      "text/plain": [
       "[1,3,6,10,15]"
      ]
     },
     "metadata": {},
     "output_type": "display_data"
    }
   ],
   "source": [
    "scanSum [1,2,3,4,5]"
   ]
  },
  {
   "cell_type": "markdown",
   "metadata": {},
   "source": [
    "## Problem 4"
   ]
  },
  {
   "cell_type": "code",
   "execution_count": null,
   "metadata": {},
   "outputs": [],
   "source": [
    "func xs = [a | a <- xs, even x]"
   ]
  },
  {
   "cell_type": "code",
   "execution_count": 9,
   "metadata": {},
   "outputs": [
    {
     "data": {
      "text/plain": [
       "[[1,1,1],[2],[5],[3],[8,8],[88],[0],[1],[3],[51,51],[4],[134]]"
      ]
     },
     "metadata": {},
     "output_type": "display_data"
    }
   ],
   "source": [
    "headset xs = takeWhile (== head xs) xs\n",
    "tailset xs = dropWhile (== head xs) xs\n",
    "\n",
    "groupASSIST xs ys\n",
    "                | not (null xs) && null ys = groupASSIST (tailset xs) [headset xs]\n",
    "                | not (null xs) && not (null ys) = groupASSIST (tailset xs) (ys++[headset xs])\n",
    "                | null xs && not (null ys) = ys\n",
    "                | otherwise = [[]]\n",
    "                \n",
    "group x = groupASSIST x []\n",
    "\n",
    "group [1,1,1,2,5,3,8,8,88,0,1,3,51,51,4,134]"
   ]
  },
  {
   "cell_type": "code",
   "execution_count": 10,
   "metadata": {},
   "outputs": [
    {
     "data": {
      "text/plain": [
       "[\"m\",\"i\",\"ss\",\"i\",\"ss\",\"i\",\"pp\",\"i\"]"
      ]
     },
     "metadata": {},
     "output_type": "display_data"
    }
   ],
   "source": [
    "group \"mississippi\""
   ]
  },
  {
   "cell_type": "markdown",
   "metadata": {},
   "source": [
    "## Problem 5\n",
    "\n",
    "Write a function  `listDiff`  with two lists as parameters that deletes every occurrence of every element of the second list from the first list. This is analogous to a set difference."
   ]
  },
  {
   "cell_type": "code",
   "execution_count": 3,
   "metadata": {},
   "outputs": [],
   "source": [
    "listDiff xs ys\n",
    "        | not (null ys) = listDiff [x | x <- xs, x /= head ys] (tail ys)\n",
    "        | null ys = xs"
   ]
  },
  {
   "cell_type": "code",
   "execution_count": 25,
   "metadata": {},
   "outputs": [
    {
     "data": {
      "text/plain": [
       "[2,3,4,5,15,5]"
      ]
     },
     "metadata": {},
     "output_type": "display_data"
    }
   ],
   "source": [
    "listDiff [1,1,1,1,2,3,4,5,15,5] [1]"
   ]
  },
  {
   "cell_type": "markdown",
   "metadata": {},
   "source": [
    "## Problem 6\n",
    "\n",
    "__Implement a Run Length Encoding (RLE) encoder and decoder.__\n",
    "\n",
    "The idea of RLE is simple: given some input: \"aaaabbaaa\" compress it by taking the length of each run of characters: (4,'a'), (2, 'b'), (3, 'a'). \n",
    "\n",
    "The  `flatten` and  `group` functions from above might be helpful. \n",
    "\n",
    "What is the type of your encode and decode functions? (from HWIB, Lists II)"
   ]
  },
  {
   "cell_type": "code",
   "execution_count": 46,
   "metadata": {},
   "outputs": [],
   "source": [
    "zipHeads li = zipWith ($) (replicate (length li) head) li\n",
    "zipLens li = zipWith ($) (replicate (length li) length) li\n",
    "\n",
    "myRLE xs = [(x,y) | \n",
    "            (x,y) <- zip (zipLens $ group xs) (zipHeads $ group xs)]"
   ]
  },
  {
   "cell_type": "code",
   "execution_count": 47,
   "metadata": {},
   "outputs": [
    {
     "data": {
      "text/plain": [
       "[(1,'m'),(1,'i'),(2,'s'),(1,'i'),(2,'s'),(1,'i'),(2,'p'),(1,'i')]"
      ]
     },
     "metadata": {},
     "output_type": "display_data"
    }
   ],
   "source": [
    "myRLE \"mississippi\""
   ]
  },
  {
   "cell_type": "code",
   "execution_count": 51,
   "metadata": {},
   "outputs": [
    {
     "data": {
      "text/plain": [
       "[(4,'a'),(2,'b'),(3,'a')]"
      ]
     },
     "metadata": {},
     "output_type": "display_data"
    }
   ],
   "source": [
    "myRLE \"aaaabbaaa\""
   ]
  }
 ],
 "metadata": {
  "kernelspec": {
   "display_name": "Haskell",
   "language": "haskell",
   "name": "haskell"
  },
  "language_info": {
   "codemirror_mode": "ihaskell",
   "file_extension": ".hs",
   "name": "haskell",
   "pygments_lexer": "Haskell",
   "version": "8.6.3"
  },
  "toc": {
   "base_numbering": 1,
   "nav_menu": {},
   "number_sections": true,
   "sideBar": true,
   "skip_h1_title": false,
   "title_cell": "Table of Contents",
   "title_sidebar": "Contents",
   "toc_cell": false,
   "toc_position": {},
   "toc_section_display": true,
   "toc_window_display": false
  }
 },
 "nbformat": 4,
 "nbformat_minor": 2
}
