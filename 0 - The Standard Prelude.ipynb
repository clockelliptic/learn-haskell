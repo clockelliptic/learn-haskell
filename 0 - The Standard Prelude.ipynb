{
 "cells": [
  {
   "cell_type": "markdown",
   "metadata": {},
   "source": [
    "# Haskell Programming Language"
   ]
  },
  {
   "cell_type": "markdown",
   "metadata": {},
   "source": [
    "## The Standard Prelude"
   ]
  },
  {
   "cell_type": "code",
   "execution_count": 4,
   "metadata": {},
   "outputs": [
    {
     "data": {
      "text/plain": [
       "55"
      ]
     },
     "metadata": {},
     "output_type": "display_data"
    }
   ],
   "source": [
    "{- Sum all numbers from 1 to 10 -}\n",
    "sum [1..10]"
   ]
  },
  {
   "cell_type": "code",
   "execution_count": 6,
   "metadata": {},
   "outputs": [
    {
     "data": {
      "text/plain": [
       "14"
      ]
     },
     "metadata": {},
     "output_type": "display_data"
    },
    {
     "data": {
      "text/plain": [
       "20"
      ]
     },
     "metadata": {},
     "output_type": "display_data"
    },
    {
     "data": {
      "text/plain": [
       "5.0"
      ]
     },
     "metadata": {},
     "output_type": "display_data"
    }
   ],
   "source": [
    "{- Use haskell as a simple desktop calculator -}\n",
    "\n",
    "2 + 3 * 4\n",
    "\n",
    "(2 + 3) * 4\n",
    "\n",
    "sqrt(3^2 + 4^2)"
   ]
  },
  {
   "cell_type": "code",
   "execution_count": 8,
   "metadata": {},
   "outputs": [
    {
     "data": {
      "text/plain": [
       "1"
      ]
     },
     "metadata": {},
     "output_type": "display_data"
    },
    {
     "data": {
      "text/plain": [
       "5"
      ]
     },
     "metadata": {},
     "output_type": "display_data"
    }
   ],
   "source": [
    "{- Select the first element of a list -}\n",
    "head [1,2,3,4,5]\n",
    "head [5,4,3,2,1]"
   ]
  },
  {
   "cell_type": "code",
   "execution_count": 11,
   "metadata": {},
   "outputs": [
    {
     "data": {
      "text/plain": [
       "[2,3,4,5]"
      ]
     },
     "metadata": {},
     "output_type": "display_data"
    },
    {
     "data": {
      "text/plain": [
       "[4,3,2,1]"
      ]
     },
     "metadata": {},
     "output_type": "display_data"
    }
   ],
   "source": [
    "{- Remove the first element of a list -}\n",
    "tail [1,2,3,4,5]\n",
    "tail [5,4,3,2,1]"
   ]
  },
  {
   "cell_type": "code",
   "execution_count": 10,
   "metadata": {},
   "outputs": [
    {
     "data": {
      "text/plain": [
       "[1,2,3]"
      ]
     },
     "metadata": {},
     "output_type": "display_data"
    },
    {
     "data": {
      "text/plain": [
       "[5,4]"
      ]
     },
     "metadata": {},
     "output_type": "display_data"
    }
   ],
   "source": [
    "{- Select the first n elements of a list -}\n",
    "take 3 [1,2,3,4,5]\n",
    "take 2 [5,4,3,2,1]"
   ]
  },
  {
   "cell_type": "code",
   "execution_count": 12,
   "metadata": {},
   "outputs": [
    {
     "data": {
      "text/plain": [
       "[4,5]"
      ]
     },
     "metadata": {},
     "output_type": "display_data"
    },
    {
     "data": {
      "text/plain": [
       "[3,2,1]"
      ]
     },
     "metadata": {},
     "output_type": "display_data"
    }
   ],
   "source": [
    "{- Remove the first n elements of a list -}\n",
    "drop 3 [1,2,3,4,5]\n",
    "drop 2 [5,4,3,2,1]"
   ]
  },
  {
   "cell_type": "code",
   "execution_count": 13,
   "metadata": {},
   "outputs": [
    {
     "data": {
      "text/plain": [
       "5"
      ]
     },
     "metadata": {},
     "output_type": "display_data"
    }
   ],
   "source": [
    "{- Calculate the length of a list -}\n",
    "length [1,2,3,4,5]"
   ]
  },
  {
   "cell_type": "code",
   "execution_count": 14,
   "metadata": {},
   "outputs": [
    {
     "data": {
      "text/plain": [
       "15"
      ]
     },
     "metadata": {},
     "output_type": "display_data"
    }
   ],
   "source": [
    "{- Calculate the sum of a list -}\n",
    "sum [1,2,3,4,5]"
   ]
  },
  {
   "cell_type": "code",
   "execution_count": 15,
   "metadata": {},
   "outputs": [
    {
     "data": {
      "text/plain": [
       "120"
      ]
     },
     "metadata": {},
     "output_type": "display_data"
    }
   ],
   "source": [
    "{- Calculate the product of a list -}\n",
    "product [1,2,3,4,5]"
   ]
  },
  {
   "cell_type": "code",
   "execution_count": 16,
   "metadata": {},
   "outputs": [
    {
     "data": {
      "text/plain": [
       "[1,2,3,4,5]"
      ]
     },
     "metadata": {},
     "output_type": "display_data"
    }
   ],
   "source": [
    "{- Append two lists -}\n",
    "[1,2,3] ++ [4,5]"
   ]
  },
  {
   "cell_type": "code",
   "execution_count": 17,
   "metadata": {},
   "outputs": [
    {
     "data": {
      "text/plain": [
       "[5,4,3,2,1]"
      ]
     },
     "metadata": {},
     "output_type": "display_data"
    }
   ],
   "source": [
    "{- Reverse a list -}\n",
    "reverse [1,2,3,4,5]"
   ]
  },
  {
   "cell_type": "markdown",
   "metadata": {},
   "source": [
    "## Function Application"
   ]
  },
  {
   "cell_type": "markdown",
   "metadata": {},
   "source": [
    "In mathematics, functions are commonly denoted by the following form: $$f(a, b)$$\n",
    "\n",
    "and multiplication of who variables is denoted by simple juxtaposition when a multiplication symbol is not used. $c$ times $d$ is denoted: $$c d$$\n",
    "\n",
    "If we want to express *apply the function $f$ to $a$ and $b$, and add the resulting product of $c$ and $d$, we would write: $$f(a, b) + cd$$"
   ]
  },
  {
   "cell_type": "markdown",
   "metadata": {},
   "source": [
    "In __Haskell__, function application is denoted using a space, and multiplication is denoted using `*`, so this same expression in __Haskell__ syntax will look like:\n",
    "\n",
    "```\n",
    "f a b + c*d\n",
    "```"
   ]
  },
  {
   "cell_type": "markdown",
   "metadata": {},
   "source": [
    "Moreover, function application is assumed to have a higer priority than all other operators, and as such \n",
    "\n",
    "```\n",
    "f a + b\n",
    "``` \n",
    "\n",
    "means \n",
    "\n",
    "```\n",
    "(f a) + b\n",
    "``` \n",
    "\n",
    "rather than \n",
    "\n",
    "```\n",
    "f (a + b)\n",
    "```"
   ]
  },
  {
   "cell_type": "markdown",
   "metadata": {},
   "source": [
    "### Examples\n",
    "<br />\n",
    "\n",
    "| __Mathematics__ | __Haskell__ |\n",
    "|---|---|\n",
    "| $f(x)$ | `f x` |\n",
    "| $f(x,y)$ | `f x y` |\n",
    "| $f(g(x))$ | `f (g x)` |\n",
    "| $f(x,g(y))$ | `f x (g y)` |\n",
    "| $f(x) g(y)$ | `f x * g y` |"
   ]
  },
  {
   "cell_type": "markdown",
   "metadata": {},
   "source": [
    "## Haskell Scripts\n",
    "\n",
    " - As well as the functions in the standard library, you can also define your own functions;\n",
    "\n",
    " - New functions are defined within a script, a text file comprising a sequence of definitions;\n",
    "\n",
    " - By convention, Haskell scripts usually have a .hs suffix on their filename.  This is not mandatory, but is useful for identification purposes."
   ]
  },
  {
   "cell_type": "markdown",
   "metadata": {},
   "source": [
    "### A First Script"
   ]
  },
  {
   "cell_type": "code",
   "execution_count": 1,
   "metadata": {},
   "outputs": [],
   "source": [
    "double x = x + x\n",
    "quadruple x = double(double x)"
   ]
  },
  {
   "cell_type": "code",
   "execution_count": 3,
   "metadata": {},
   "outputs": [
    {
     "data": {
      "text/plain": [
       "8"
      ]
     },
     "metadata": {},
     "output_type": "display_data"
    },
    {
     "data": {
      "text/plain": [
       "16"
      ]
     },
     "metadata": {},
     "output_type": "display_data"
    }
   ],
   "source": [
    "double 4\n",
    "quadruple 4"
   ]
  },
  {
   "cell_type": "markdown",
   "metadata": {},
   "source": [
    "### Another Script\n",
    "\n",
    "Note in the script below:\n",
    " - div is enclosed in *back quotes* __not__ forward\n",
    " - x `f` y is just *syntactic surgar* for f x y"
   ]
  },
  {
   "cell_type": "code",
   "execution_count": 4,
   "metadata": {},
   "outputs": [],
   "source": [
    "factorial n = product [1..n]\n",
    "average ns = sum ns `div` length ns"
   ]
  },
  {
   "cell_type": "code",
   "execution_count": 5,
   "metadata": {},
   "outputs": [
    {
     "data": {
      "text/plain": [
       "3628800"
      ]
     },
     "metadata": {},
     "output_type": "display_data"
    },
    {
     "data": {
      "text/plain": [
       "3"
      ]
     },
     "metadata": {},
     "output_type": "display_data"
    }
   ],
   "source": [
    "factorial 10\n",
    "average [1,2,3,4,5]"
   ]
  },
  {
   "cell_type": "markdown",
   "metadata": {},
   "source": [
    "### Useful GHCi Commands\n",
    "\n",
    "(Most of) These can be used from within Jupyter!\n",
    "\n",
    "|Command|Meaning|\n",
    "| --- | --- |\n",
    "|:load *name*|load script *name*|\n",
    "|:reload|reload current script|\n",
    "|:set editor *name*| set editor to *name*|\n",
    "|:edit *name*|edit script *name*|\n",
    "|:edit|edit current script|\n",
    "|:type *expr*|show type of *expr*|\n",
    "|:?|show all commands|\n",
    "|:quit|quit GHCi|\n"
   ]
  },
  {
   "cell_type": "markdown",
   "metadata": {},
   "source": [
    "### Naming Requirements\n",
    "\n",
    " - Function names and argument names must begin with a lower-case letter. Examples: \n",
    " `myFun` `fun1` `arg_2` `x'`\n",
    " - By convention, list arguments usually have an `s` suffix on their name. Examples:\n",
    " `xs` `ns` `nss`"
   ]
  },
  {
   "cell_type": "markdown",
   "metadata": {},
   "source": [
    "### The Layout Rule\n",
    "\n",
    "In a sequence of definitions each definition must begin in precisely the same column. So if you define several variables or functions one after the other, do not indent any of them! \n",
    "\n",
    "This rule avoids the need for explicit syntax (i.e. no need for curly brackets)."
   ]
  },
  {
   "cell_type": "markdown",
   "metadata": {},
   "source": [
    "#### Exercise 1: Find the syntax errors\n",
    "\n",
    "Find the syntax errors in the code below, then fix them and run the correct code.\n",
    "\n",
    "```\n",
    "N = a ’div’ length xs\n",
    "    where\n",
    "       a = 10\n",
    "      xs = [1,2,3,4,5]\n",
    "```"
   ]
  },
  {
   "cell_type": "code",
   "execution_count": 12,
   "metadata": {},
   "outputs": [
    {
     "data": {
      "text/plain": [
       "2"
      ]
     },
     "metadata": {},
     "output_type": "display_data"
    }
   ],
   "source": [
    "n = a `div` length xs\n",
    "    where\n",
    "        a = 10\n",
    "        xs = [1,2,3,4,5]\n",
    "\n",
    "print n"
   ]
  },
  {
   "cell_type": "markdown",
   "metadata": {},
   "source": [
    "#### Exercise 2: Show how the library function last that selects the last element of a list can be defined using the functions introduced above.\n",
    "\n",
    "Can you think of another definition as well?"
   ]
  },
  {
   "cell_type": "markdown",
   "metadata": {},
   "source": [
    "#### Exercise 3: Similarly, show how the library function init that removes the last element from a list can be defined in two different ways."
   ]
  },
  {
   "cell_type": "code",
   "execution_count": null,
   "metadata": {},
   "outputs": [],
   "source": []
  }
 ],
 "metadata": {
  "kernelspec": {
   "display_name": "Haskell",
   "language": "haskell",
   "name": "haskell"
  },
  "language_info": {
   "codemirror_mode": "ihaskell",
   "file_extension": ".hs",
   "name": "haskell",
   "pygments_lexer": "Haskell",
   "version": "8.6.3"
  },
  "varInspector": {
   "cols": {
    "lenName": 16,
    "lenType": 16,
    "lenVar": 40
   },
   "kernels_config": {
    "python": {
     "delete_cmd_postfix": "",
     "delete_cmd_prefix": "del ",
     "library": "var_list.py",
     "varRefreshCmd": "print(var_dic_list())"
    },
    "r": {
     "delete_cmd_postfix": ") ",
     "delete_cmd_prefix": "rm(",
     "library": "var_list.r",
     "varRefreshCmd": "cat(var_dic_list()) "
    }
   },
   "types_to_exclude": [
    "module",
    "function",
    "builtin_function_or_method",
    "instance",
    "_Feature"
   ],
   "window_display": false
  }
 },
 "nbformat": 4,
 "nbformat_minor": 2
}
